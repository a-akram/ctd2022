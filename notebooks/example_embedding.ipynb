{
 "cells": [
  {
   "cell_type": "markdown",
   "metadata": {},
   "source": [
    "# Example of Metric Learning in Embedded Space"
   ]
  },
  {
   "cell_type": "code",
   "execution_count": 1,
   "metadata": {},
   "outputs": [],
   "source": [
    "%load_ext autoreload\n",
    "%autoreload 2"
   ]
  },
  {
   "cell_type": "code",
   "execution_count": 2,
   "metadata": {},
   "outputs": [],
   "source": [
    "# System imports\n",
    "import os\n",
    "import sys\n",
    "import yaml\n",
    "\n",
    "# External imports\n",
    "import matplotlib.pyplot as plt\n",
    "import scipy as sp\n",
    "from sklearn.decomposition import PCA\n",
    "from sklearn.metrics import auc\n",
    "import numpy as np\n",
    "import pandas as pd\n",
    "import seaborn as sns\n",
    "import torch\n",
    "from pytorch_lightning.loggers import TensorBoardLogger, WandbLogger\n",
    "\n",
    "device = \"cuda\" if torch.cuda.is_available() else \"cpu\""
   ]
  },
  {
   "cell_type": "markdown",
   "metadata": {},
   "source": [
    "## Pytorch Lightning Model"
   ]
  },
  {
   "cell_type": "markdown",
   "metadata": {},
   "source": [
    "In this example notebook, we will use an approach to ML called Pytorch Lightning. Pytorch is a library like Tensorflow, which is very popular in ML engineering. It's main appeal is foolproof tracking of gradients for backpropagation, and very easy manipulation of tensors on and off GPUs. \n",
    "\n",
    "Pytorch Lightning is an extension of Pytorch that makes some decisions about the best-practices for training. Instead of you writing the training loop yourself, and moving things on and off a GPU, it handles much of this for you. You write all the data loading logic, the loss functions, etc. into a `LightningModule` and then hand this module to a `Trainer`. Together, the module and trainer are the two objects that allow training and inference. "
   ]
  },
  {
   "cell_type": "markdown",
   "metadata": {},
   "source": [
    "So we start by importing a class that we have written ourselves, in this case a LightningModule that is in charge of loading TrackML (Codalab) data, and training and validating an embedding/metric learning model. "
   ]
  },
  {
   "cell_type": "code",
   "execution_count": 3,
   "metadata": {},
   "outputs": [],
   "source": [
    "\n",
    "from LightningModules.Embedding.Models.layerless_embedding import LayerlessEmbedding"
   ]
  },
  {
   "cell_type": "markdown",
   "metadata": {},
   "source": [
    "### Construct PyLightning model"
   ]
  },
  {
   "cell_type": "markdown",
   "metadata": {},
   "source": [
    "An ML model typically has many knobs to turn, as well as locations of data, some training preferences, and so on. For convenience, let's put all of these parameters into a YAML file and load it."
   ]
  },
  {
   "cell_type": "code",
   "execution_count": 4,
   "metadata": {},
   "outputs": [],
   "source": [
    "with open(\"example_embedding.yaml\") as f:\n",
    "    hparams = yaml.load(f, Loader=yaml.FullLoader)"
   ]
  },
  {
   "cell_type": "code",
   "execution_count": 5,
   "metadata": {},
   "outputs": [
    {
     "name": "stdout",
     "output_type": "stream",
     "text": [
      "{ 'activation': 'Tanh',\n",
      "  'callbacks': 'EmbeddingTelemetry',\n",
      "  'cell_channels': 8,\n",
      "  'emb_dim': 8,\n",
      "  'emb_hidden': 512,\n",
      "  'factor': 0.3,\n",
      "  'input_dir': '/project/projectdirs/m3443/data/trackml-codalab/feature_store/testing_1',\n",
      "  'knn': 50,\n",
      "  'lr': 0.0001,\n",
      "  'margin': 1,\n",
      "  'max_epochs': 50,\n",
      "  'n_workers': 8,\n",
      "  'nb_layer': 4,\n",
      "  'noise': False,\n",
      "  'patience': 15,\n",
      "  'points_per_batch': 100000,\n",
      "  'pt_background_min': 0.0,\n",
      "  'pt_signal_min': 0.0,\n",
      "  'r_test': 1.0,\n",
      "  'r_train': 1.0,\n",
      "  'r_val': 1.0,\n",
      "  'randomisation': 2,\n",
      "  'regime': ['rp', 'hnm'],\n",
      "  'spatial_channels': 3,\n",
      "  'train_split': [80, 10, 10],\n",
      "  'true_edges': 'modulewise_true_edges',\n",
      "  'warmup': 30,\n",
      "  'weight': 10}\n"
     ]
    }
   ],
   "source": [
    "import pprint\n",
    "pp = pprint.PrettyPrinter(indent=2)\n",
    "pp.pprint(hparams)"
   ]
  },
  {
   "cell_type": "code",
   "execution_count": 6,
   "metadata": {},
   "outputs": [],
   "source": [
    "# change some params here\n",
    "hparams['input_dir'] = '/home/adeel/current/5_exatrkx/stttrkx-hsf/run/feature_store'\n",
    "hparams['n_files'] = 10\n",
    "hparams['train_split'] = [8, 1, 1]\n",
    "hparams['regime'] = ['rp', 'hnm']"
   ]
  },
  {
   "cell_type": "code",
   "execution_count": 7,
   "metadata": {},
   "outputs": [
    {
     "name": "stdout",
     "output_type": "stream",
     "text": [
      "{ 'activation': 'Tanh',\n",
      "  'callbacks': 'EmbeddingTelemetry',\n",
      "  'cell_channels': 8,\n",
      "  'emb_dim': 8,\n",
      "  'emb_hidden': 512,\n",
      "  'factor': 0.3,\n",
      "  'input_dir': '/home/adeel/current/5_exatrkx/stttrkx-hsf/run/feature_store',\n",
      "  'knn': 50,\n",
      "  'lr': 0.0001,\n",
      "  'margin': 1,\n",
      "  'max_epochs': 50,\n",
      "  'n_files': 10,\n",
      "  'n_workers': 8,\n",
      "  'nb_layer': 4,\n",
      "  'noise': False,\n",
      "  'patience': 15,\n",
      "  'points_per_batch': 100000,\n",
      "  'pt_background_min': 0.0,\n",
      "  'pt_signal_min': 0.0,\n",
      "  'r_test': 1.0,\n",
      "  'r_train': 1.0,\n",
      "  'r_val': 1.0,\n",
      "  'randomisation': 2,\n",
      "  'regime': ['rp', 'hnm'],\n",
      "  'spatial_channels': 3,\n",
      "  'train_split': [8, 1, 1],\n",
      "  'true_edges': 'modulewise_true_edges',\n",
      "  'warmup': 30,\n",
      "  'weight': 10}\n"
     ]
    }
   ],
   "source": [
    "import pprint\n",
    "pp = pprint.PrettyPrinter(indent=2)\n",
    "pp.pprint(hparams)"
   ]
  },
  {
   "cell_type": "markdown",
   "metadata": {},
   "source": [
    "We plug these parameters into a constructor of the `LayerlessEmbedding` Lightning Module. This doesn't **do** anything yet - merely creates the object."
   ]
  },
  {
   "cell_type": "code",
   "execution_count": 8,
   "metadata": {},
   "outputs": [],
   "source": [
    "model = LayerlessEmbedding(hparams)"
   ]
  },
  {
   "cell_type": "markdown",
   "metadata": {
    "heading_collapsed": true
   },
   "source": [
    "## The Dataset"
   ]
  },
  {
   "cell_type": "markdown",
   "metadata": {
    "hidden": true
   },
   "source": [
    "To load the data, we call a `setup` method. There is some flexibility in how to handle data, and one should check the Pytorch Lightning docs to see the spectrum of options. This is my favourite way: Hide all of the data loading inside the Lightning module. We are explicitly calling `setup` here because we're going to visualise some of the data first. In future, once you know the nature of the data, we can skip this step, since the trainer will call this automatically when it starts training. "
   ]
  },
  {
   "cell_type": "markdown",
   "metadata": {
    "hidden": true
   },
   "source": [
    "NOTE: This may take a minute or two, since the data is being trimmed to particles above a certain momentum threshold."
   ]
  },
  {
   "cell_type": "code",
   "execution_count": 9,
   "metadata": {
    "hidden": true
   },
   "outputs": [],
   "source": [
    "model.setup(stage=\"fit\")"
   ]
  },
  {
   "cell_type": "markdown",
   "metadata": {
    "hidden": true
   },
   "source": [
    "### Visualise geometry"
   ]
  },
  {
   "cell_type": "markdown",
   "metadata": {
    "hidden": true
   },
   "source": [
    "Just as a sanity check, let's look directly at the geometry of the data, as well as some distributions. This is just to make sure that, e.g. it's normalised in some reasonable way (that is, it doesn't vary from -1000 to +1000 or some large numbers, but that it is distributed close to +1 and -1 - this makes training much more effective!), and there aren't weird outliers (this also damages training!). "
   ]
  },
  {
   "cell_type": "code",
   "execution_count": 10,
   "metadata": {
    "hidden": true
   },
   "outputs": [],
   "source": [
    "trainset = model.trainset"
   ]
  },
  {
   "cell_type": "code",
   "execution_count": 41,
   "metadata": {
    "hidden": true
   },
   "outputs": [],
   "source": [
    "example_data = trainset[3]\n",
    "r, phi, z = example_data.x.T\n",
    "layer_edges = example_data.layerwise_true_edges\n",
    "module_edges = example_data.modulewise_true_edges"
   ]
  },
  {
   "cell_type": "code",
   "execution_count": 42,
   "metadata": {
    "hidden": true
   },
   "outputs": [],
   "source": [
    "x, y = r * np.cos(phi * np.pi) * 100, r * np.sin(phi * np.pi) * 100\n",
    "z = z * 100"
   ]
  },
  {
   "cell_type": "code",
   "execution_count": 43,
   "metadata": {
    "hidden": true
   },
   "outputs": [
    {
     "data": {
      "text/plain": [
       "(-40.0, 40.0)"
      ]
     },
     "execution_count": 43,
     "metadata": {},
     "output_type": "execute_result"
    },
    {
     "data": {
      "image/png": "[encoded data removed]",
      "text/plain": [
       "<Figure size 864x864 with 1 Axes>"
      ]
     },
     "metadata": {
      "needs_background": "light"
     },
     "output_type": "display_data"
    }
   ],
   "source": [
    "plt.figure(figsize=(12, 12))\n",
    "plt.scatter(x, y)\n",
    "plt.title(\"Azimuthal View of Detector\", fontsize=24)\n",
    "plt.xlabel(\"x\", fontsize=18)\n",
    "plt.ylabel(\"y\", fontsize=18)\n",
    "plt.xlim(-40, 40)\n",
    "plt.ylim(-40, 40)"
   ]
  },
  {
   "cell_type": "code",
   "execution_count": 44,
   "metadata": {
    "hidden": true
   },
   "outputs": [
    {
     "data": {
      "text/plain": [
       "(Text(0.5, 1.0, 'Down-beampipe Spacepoint Distribution'),\n",
       " Text(0.5, 0, 'x direction (mm)'),\n",
       " Text(0, 0.5, 'y direction (mm)'))"
      ]
     },
     "execution_count": 44,
     "metadata": {},
     "output_type": "execute_result"
    },
    {
     "data": {
      "image/png": "[encoded data removed]",
      "text/plain": [
       "<Figure size 1584x720 with 2 Axes>"
      ]
     },
     "metadata": {
      "needs_background": "light"
     },
     "output_type": "display_data"
    }
   ],
   "source": [
    "fig, axs = plt.subplots(1, 2, figsize=(22, 10))\n",
    "axs[0].scatter(z, x, s=1)\n",
    "axs[1].scatter(x, y, s=1)\n",
    "axs[0].set_title(\"Longitudinal Spacepoint Distribution\", fontsize=24), axs[\n",
    "    0\n",
    "].set_xlabel(\"z direction (mm)\", fontsize=18), axs[0].set_ylabel(\n",
    "    \"x direction (mm)\", fontsize=18\n",
    ")\n",
    "axs[1].set_title(\"Down-beampipe Spacepoint Distribution\", fontsize=24), axs[\n",
    "    1\n",
    "].set_xlabel(\"x direction (mm)\", fontsize=18), axs[1].set_ylabel(\n",
    "    \"y direction (mm)\", fontsize=18\n",
    ")"
   ]
  },
  {
   "cell_type": "markdown",
   "metadata": {
    "hidden": true
   },
   "source": [
    "### Visualise distributions"
   ]
  },
  {
   "cell_type": "code",
   "execution_count": 45,
   "metadata": {
    "hidden": true
   },
   "outputs": [
    {
     "name": "stderr",
     "output_type": "stream",
     "text": [
      "/home/adeel/anaconda/envs/exatrkx-cpu/lib/python3.8/site-packages/seaborn/distributions.py:2619: FutureWarning: `distplot` is a deprecated function and will be removed in a future version. Please adapt your code to use either `displot` (a figure-level function with similar flexibility) or `histplot` (an axes-level function for histograms).\n",
      "  warnings.warn(msg, FutureWarning)\n"
     ]
    },
    {
     "data": {
      "text/plain": [
       "(Text(0.5, 1.0, 'Distribution of Momentum'),\n",
       " Text(0.5, 0, 'pT (GeV)'),\n",
       " Text(0, 0.5, 'Count'))"
      ]
     },
     "execution_count": 45,
     "metadata": {},
     "output_type": "execute_result"
    },
    {
     "data": {
      "image/png": "[encoded data removed]",
      "text/plain": [
       "<Figure size 864x576 with 1 Axes>"
      ]
     },
     "metadata": {
      "needs_background": "light"
     },
     "output_type": "display_data"
    }
   ],
   "source": [
    "plt.figure(figsize=(12, 8))\n",
    "sns.distplot(example_data.pt[example_data.pt < 5].numpy(), bins=20)\n",
    "plt.title(\"Distribution of Momentum\", fontsize=24), plt.xlabel(\n",
    "    \"pT (GeV)\", fontsize=18\n",
    "), plt.ylabel(\"Count\", fontsize=18)"
   ]
  },
  {
   "cell_type": "markdown",
   "metadata": {
    "hidden": true
   },
   "source": [
    "Observe the hard cut-off below 1GeV - this is because we are ignoring lower energy hits to keep things easy for now. But we should include them again once we are happy with our ML architecture!"
   ]
  },
  {
   "cell_type": "code",
   "execution_count": 46,
   "metadata": {
    "hidden": true
   },
   "outputs": [],
   "source": [
    "particle_id, particle_counts = np.unique(example_data.pid.numpy(), return_counts=True)"
   ]
  },
  {
   "cell_type": "code",
   "execution_count": 47,
   "metadata": {
    "hidden": true
   },
   "outputs": [
    {
     "data": {
      "text/plain": [
       "(Text(0.5, 1.0, 'Distribution of Hits per Particle'),\n",
       " Text(0.5, 0, 'Hits'),\n",
       " Text(0, 0.5, 'Count'))"
      ]
     },
     "execution_count": 47,
     "metadata": {},
     "output_type": "execute_result"
    },
    {
     "data": {
      "image/png": "[encoded data removed]",
      "text/plain": [
       "<Figure size 864x576 with 1 Axes>"
      ]
     },
     "metadata": {
      "needs_background": "light"
     },
     "output_type": "display_data"
    }
   ],
   "source": [
    "plt.figure(figsize=(12, 8))\n",
    "sns.histplot(particle_counts[particle_id == particle_id], binwidth=1)\n",
    "plt.title(\"Distribution of Hits per Particle\", fontsize=24), plt.xlabel(\n",
    "    \"Hits\", fontsize=18\n",
    "), plt.ylabel(\"Count\", fontsize=18)"
   ]
  },
  {
   "cell_type": "markdown",
   "metadata": {
    "hidden": true
   },
   "source": [
    "This gives an idea about how long each particle track is. We can see that most particle tracks leave > 10 hits, which will be useful for our graph neural networks down the track. In general, shorter tracks are harder to detect, and less useful for doing meaningful physics."
   ]
  },
  {
   "cell_type": "markdown",
   "metadata": {},
   "source": [
    "## Metric Learning"
   ]
  },
  {
   "cell_type": "code",
   "execution_count": 18,
   "metadata": {},
   "outputs": [],
   "source": [
    "from pytorch_lightning import Trainer"
   ]
  },
  {
   "cell_type": "markdown",
   "metadata": {},
   "source": [
    "### Train embedding"
   ]
  },
  {
   "cell_type": "markdown",
   "metadata": {},
   "source": [
    "Finally! Let's train! We instantiate a `Trainer` class that knows things like which hardware to work with, how long to train for, and a **bunch** of default options that we ignore here. Check out the Trainer class docs in Pytorch Lightning. Suffice it to say that it clears away much repetitive boilerplate in training code."
   ]
  },
  {
   "cell_type": "code",
   "execution_count": 19,
   "metadata": {},
   "outputs": [
    {
     "name": "stderr",
     "output_type": "stream",
     "text": [
      "GPU available: False, used: False\n",
      "TPU available: False, using: 0 TPU cores\n",
      "IPU available: False, using: 0 IPUs\n",
      "\u001b[34m\u001b[1mwandb\u001b[0m: Currently logged in as: \u001b[33maakram\u001b[0m (use `wandb login --relogin` to force relogin)\n"
     ]
    },
    {
     "data": {
      "text/html": [
       "Tracking run with wandb version 0.12.11"
      ],
      "text/plain": [
       "<IPython.core.display.HTML object>"
      ]
     },
     "metadata": {},
     "output_type": "display_data"
    },
    {
     "data": {
      "text/html": [
       "Run data is saved locally in <code>/home/adeel/current/5_exatrkx/stttrkx-hsf/notebooks/wandb/run-20220310_181754-38fu3c3l</code>"
      ],
      "text/plain": [
       "<IPython.core.display.HTML object>"
      ]
     },
     "metadata": {},
     "output_type": "display_data"
    },
    {
     "data": {
      "text/html": [
       "Syncing run <strong><a href=\"https://wandb.ai/aakram/CodaEmbedding1GeV/runs/38fu3c3l\" target=\"_blank\">robust-wildflower-4</a></strong> to <a href=\"https://wandb.ai/aakram/CodaEmbedding1GeV\" target=\"_blank\">Weights & Biases</a> (<a href=\"https://wandb.me/run\" target=\"_blank\">docs</a>)<br/>"
      ],
      "text/plain": [
       "<IPython.core.display.HTML object>"
      ]
     },
     "metadata": {},
     "output_type": "display_data"
    },
    {
     "name": "stderr",
     "output_type": "stream",
     "text": [
      "\n",
      "  | Name    | Type       | Params\n",
      "---------------------------------------\n",
      "0 | network | Sequential | 798 K \n",
      "---------------------------------------\n",
      "798 K     Trainable params\n",
      "0         Non-trainable params\n",
      "798 K     Total params\n",
      "3.193     Total estimated model params size (MB)\n"
     ]
    },
    {
     "name": "stdout",
     "output_type": "stream",
     "text": [
      "Validation sanity check:   0%|                                                                               | 0/1 [00:00<?, ?it/s]"
     ]
    },
    {
     "name": "stderr",
     "output_type": "stream",
     "text": [
      "/home/adeel/anaconda/envs/exatrkx-cpu/lib/python3.8/site-packages/torch_geometric/deprecation.py:13: UserWarning: 'data.DataLoader' is deprecated, use 'loader.DataLoader' instead\n",
      "  warnings.warn(out)\n"
     ]
    },
    {
     "name": "stdout",
     "output_type": "stream",
     "text": [
      "                                                                                                                                   "
     ]
    },
    {
     "name": "stderr",
     "output_type": "stream",
     "text": [
      "/home/adeel/current/5_exatrkx/stttrkx-hsf/notebooks/../LightningModules/Embedding/embedding_base.py:194: UserWarning: To copy construct from a tensor, it is recommended to use sourceTensor.clone().detach() or sourceTensor.clone().detach().requires_grad_(True), rather than torch.tensor(sourceTensor).\n",
      "  eff = torch.tensor(cluster_true_positive / cluster_true)\n",
      "/home/adeel/current/5_exatrkx/stttrkx-hsf/notebooks/../LightningModules/Embedding/embedding_base.py:195: UserWarning: To copy construct from a tensor, it is recommended to use sourceTensor.clone().detach() or sourceTensor.clone().detach().requires_grad_(True), rather than torch.tensor(sourceTensor).\n",
      "  pur = torch.tensor(cluster_true_positive / cluster_positive)\n",
      "/home/adeel/anaconda/envs/exatrkx-cpu/lib/python3.8/site-packages/pytorch_lightning/utilities/data.py:59: UserWarning: Trying to infer the `batch_size` from an ambiguous collection. The batch size we found is 1. To avoid any miscalculations, use `self.log(..., batch_size=batch_size)`.\n",
      "  warning_cache.warn(\n",
      "/home/adeel/anaconda/envs/exatrkx-cpu/lib/python3.8/site-packages/pytorch_lightning/trainer/data_loading.py:432: UserWarning: The number of training samples (8) is smaller than the logging interval Trainer(log_every_n_steps=50). Set a lower value for log_every_n_steps if you want to see logs for the training epoch.\n",
      "  rank_zero_warn(\n"
     ]
    },
    {
     "name": "stdout",
     "output_type": "stream",
     "text": [
      "Epoch 0: 100%|████████████████████████████████████████████████████████████████| 9/9 [00:00<00:00, 19.22it/s, loss=2.52, v_num=3c3l]\n",
      "Validating: 0it [00:00, ?it/s]\u001b[A\n",
      "Validating:   0%|                                                                                            | 0/1 [00:00<?, ?it/s]\u001b[A\n",
      "Epoch 0: 100%|████████████████████████████████████████████████████████████████| 9/9 [00:00<00:00, 13.27it/s, loss=2.52, v_num=3c3l]\u001b[A\n",
      "Epoch 1:  89%|████████████████████████████████████████████████████████▉       | 8/9 [00:00<00:00, 18.97it/s, loss=2.21, v_num=3c3l]\u001b[A\n",
      "Validating: 0it [00:00, ?it/s]\u001b[A\n",
      "Validating:   0%|                                                                                            | 0/1 [00:00<?, ?it/s]\u001b[A\n",
      "Epoch 1: 100%|████████████████████████████████████████████████████████████████| 9/9 [00:00<00:00, 14.16it/s, loss=2.21, v_num=3c3l]\u001b[A\n",
      "Epoch 2:  89%|████████████████████████████████████████████████████████▉       | 8/9 [00:00<00:00, 16.41it/s, loss=1.75, v_num=3c3l]\u001b[A\n",
      "Validating: 0it [00:00, ?it/s]\u001b[A\n",
      "Validating:   0%|                                                                                            | 0/1 [00:00<?, ?it/s]\u001b[A\n",
      "Epoch 2: 100%|████████████████████████████████████████████████████████████████| 9/9 [00:00<00:00, 12.90it/s, loss=1.75, v_num=3c3l]\u001b[A\n",
      "Epoch 3:  89%|████████████████████████████████████████████████████████▉       | 8/9 [00:00<00:00, 18.34it/s, loss=1.48, v_num=3c3l]\u001b[A\n",
      "Validating: 0it [00:00, ?it/s]\u001b[A\n",
      "Validating:   0%|                                                                                            | 0/1 [00:00<?, ?it/s]\u001b[A\n",
      "Epoch 3: 100%|████████████████████████████████████████████████████████████████| 9/9 [00:00<00:00, 13.76it/s, loss=1.48, v_num=3c3l]\u001b[A\n",
      "Epoch 4:  89%|████████████████████████████████████████████████████████▉       | 8/9 [00:00<00:00, 19.11it/s, loss=1.11, v_num=3c3l]\u001b[A\n",
      "Validating: 0it [00:00, ?it/s]\u001b[A\n",
      "Validating:   0%|                                                                                            | 0/1 [00:00<?, ?it/s]\u001b[A\n",
      "Epoch 4: 100%|████████████████████████████████████████████████████████████████| 9/9 [00:00<00:00, 13.86it/s, loss=1.11, v_num=3c3l]\u001b[A\n",
      "Epoch 5:  89%|████████████████████████████████████████████████████████▉       | 8/9 [00:00<00:00, 18.33it/s, loss=1.03, v_num=3c3l]\u001b[A\n",
      "Validating: 0it [00:00, ?it/s]\u001b[A\n",
      "Validating:   0%|                                                                                            | 0/1 [00:00<?, ?it/s]\u001b[A\n",
      "Epoch 5: 100%|████████████████████████████████████████████████████████████████| 9/9 [00:00<00:00, 12.25it/s, loss=1.03, v_num=3c3l]\u001b[A\n",
      "Epoch 6:  89%|████████████████████████████████████████████████████████▉       | 8/9 [00:00<00:00, 11.09it/s, loss=1.01, v_num=3c3l]\u001b[A\n",
      "Validating: 0it [00:00, ?it/s]\u001b[A\n",
      "Validating:   0%|                                                                                            | 0/1 [00:00<?, ?it/s]\u001b[A\n",
      "Epoch 6: 100%|████████████████████████████████████████████████████████████████| 9/9 [00:01<00:00,  8.91it/s, loss=1.01, v_num=3c3l]\u001b[A\n",
      "Epoch 7:  89%|████████████████████████████████████████████████████████       | 8/9 [00:00<00:00, 16.30it/s, loss=0.984, v_num=3c3l]\u001b[A\n",
      "Validating: 0it [00:00, ?it/s]\u001b[A\n",
      "Validating:   0%|                                                                                            | 0/1 [00:00<?, ?it/s]\u001b[A\n",
      "Epoch 7: 100%|███████████████████████████████████████████████████████████████| 9/9 [00:00<00:00, 12.80it/s, loss=0.984, v_num=3c3l]\u001b[A\n",
      "Epoch 8:  89%|████████████████████████████████████████████████████████       | 8/9 [00:00<00:00, 14.20it/s, loss=0.967, v_num=3c3l]\u001b[A\n",
      "Validating: 0it [00:00, ?it/s]\u001b[A\n",
      "Validating:   0%|                                                                                            | 0/1 [00:00<?, ?it/s]\u001b[A\n",
      "Epoch 8: 100%|███████████████████████████████████████████████████████████████| 9/9 [00:00<00:00, 11.74it/s, loss=0.967, v_num=3c3l]\u001b[A\n",
      "Epoch 9:  89%|████████████████████████████████████████████████████████       | 8/9 [00:00<00:00, 15.57it/s, loss=0.962, v_num=3c3l]\u001b[A\n",
      "Validating: 0it [00:00, ?it/s]\u001b[A\n",
      "Validating:   0%|                                                                                            | 0/1 [00:00<?, ?it/s]\u001b[A\n",
      "Epoch 9: 100%|███████████████████████████████████████████████████████████████| 9/9 [00:00<00:00, 11.46it/s, loss=0.962, v_num=3c3l]\u001b[A\n",
      "Epoch 10:  89%|███████████████████████████████████████████████████████       | 8/9 [00:00<00:00, 13.61it/s, loss=0.962, v_num=3c3l]\u001b[A\n",
      "Validating: 0it [00:00, ?it/s]\u001b[A\n",
      "Validating:   0%|                                                                                            | 0/1 [00:00<?, ?it/s]\u001b[A\n",
      "Epoch 10: 100%|██████████████████████████████████████████████████████████████| 9/9 [00:00<00:00, 11.31it/s, loss=0.962, v_num=3c3l]\u001b[A\n",
      "Epoch 11:  89%|███████████████████████████████████████████████████████       | 8/9 [00:00<00:00, 14.82it/s, loss=0.965, v_num=3c3l]\u001b[A\n",
      "Validating: 0it [00:00, ?it/s]\u001b[A\n",
      "Validating:   0%|                                                                                            | 0/1 [00:00<?, ?it/s]\u001b[A\n",
      "Epoch 11: 100%|██████████████████████████████████████████████████████████████| 9/9 [00:00<00:00, 11.82it/s, loss=0.965, v_num=3c3l]\u001b[A\n",
      "Epoch 12:  89%|███████████████████████████████████████████████████████       | 8/9 [00:00<00:00, 17.94it/s, loss=0.978, v_num=3c3l]\u001b[A\n",
      "Validating: 0it [00:00, ?it/s]\u001b[A\n",
      "Validating:   0%|                                                                                            | 0/1 [00:00<?, ?it/s]\u001b[A\n",
      "Epoch 12: 100%|██████████████████████████████████████████████████████████████| 9/9 [00:00<00:00, 13.45it/s, loss=0.978, v_num=3c3l]\u001b[A\n",
      "Epoch 13:  89%|████████████████████████████████████████████████████████       | 8/9 [00:00<00:00, 16.81it/s, loss=1.04, v_num=3c3l]\u001b[A\n",
      "Validating: 0it [00:00, ?it/s]\u001b[A\n",
      "Validating:   0%|                                                                                            | 0/1 [00:00<?, ?it/s]\u001b[A\n",
      "Epoch 13: 100%|███████████████████████████████████████████████████████████████| 9/9 [00:00<00:00, 13.37it/s, loss=1.04, v_num=3c3l]\u001b[A\n",
      "Epoch 14:  89%|████████████████████████████████████████████████████████       | 8/9 [00:00<00:00, 17.69it/s, loss=1.15, v_num=3c3l]\u001b[A\n",
      "Validating: 0it [00:00, ?it/s]\u001b[A\n",
      "Validating:   0%|                                                                                            | 0/1 [00:00<?, ?it/s]\u001b[A\n",
      "Epoch 14: 100%|███████████████████████████████████████████████████████████████| 9/9 [00:00<00:00, 13.51it/s, loss=1.15, v_num=3c3l]\u001b[A\n",
      "Epoch 15:  89%|████████████████████████████████████████████████████████       | 8/9 [00:00<00:00, 16.81it/s, loss=1.17, v_num=3c3l]\u001b[A\n",
      "Validating: 0it [00:00, ?it/s]\u001b[A\n",
      "Validating:   0%|                                                                                            | 0/1 [00:00<?, ?it/s]\u001b[A\n",
      "Epoch 15: 100%|███████████████████████████████████████████████████████████████| 9/9 [00:00<00:00, 12.97it/s, loss=1.17, v_num=3c3l]\u001b[A\n",
      "Epoch 16:  89%|████████████████████████████████████████████████████████       | 8/9 [00:00<00:00, 15.37it/s, loss=1.09, v_num=3c3l]\u001b[A\n",
      "Validating: 0it [00:00, ?it/s]\u001b[A\n",
      "Validating:   0%|                                                                                            | 0/1 [00:00<?, ?it/s]\u001b[A\n",
      "Epoch 16: 100%|███████████████████████████████████████████████████████████████| 9/9 [00:00<00:00, 12.05it/s, loss=1.09, v_num=3c3l]\u001b[A\n",
      "Epoch 17:  89%|███████████████████████████████████████████████████████       | 8/9 [00:00<00:00, 15.51it/s, loss=0.988, v_num=3c3l]\u001b[A\n",
      "Validating: 0it [00:00, ?it/s]\u001b[A\n",
      "Validating:   0%|                                                                                            | 0/1 [00:00<?, ?it/s]\u001b[A\n",
      "Epoch 17: 100%|██████████████████████████████████████████████████████████████| 9/9 [00:00<00:00, 12.19it/s, loss=0.988, v_num=3c3l]\u001b[A\n",
      "Epoch 18:  89%|███████████████████████████████████████████████████████       | 8/9 [00:00<00:00, 16.55it/s, loss=0.969, v_num=3c3l]\u001b[A\n",
      "Validating: 0it [00:00, ?it/s]\u001b[A\n",
      "Validating:   0%|                                                                                            | 0/1 [00:00<?, ?it/s]\u001b[A\n",
      "Epoch 18: 100%|██████████████████████████████████████████████████████████████| 9/9 [00:00<00:00, 12.37it/s, loss=0.969, v_num=3c3l]\u001b[A\n",
      "Epoch 19:  89%|███████████████████████████████████████████████████████       | 8/9 [00:00<00:00, 16.49it/s, loss=0.937, v_num=3c3l]\u001b[A\n",
      "Validating: 0it [00:00, ?it/s]\u001b[A\n",
      "Validating:   0%|                                                                                            | 0/1 [00:00<?, ?it/s]\u001b[A\n",
      "Epoch 19: 100%|██████████████████████████████████████████████████████████████| 9/9 [00:00<00:00, 12.97it/s, loss=0.937, v_num=3c3l]\u001b[A\n",
      "Epoch 20:  89%|███████████████████████████████████████████████████████       | 8/9 [00:00<00:00, 17.01it/s, loss=0.931, v_num=3c3l]\u001b[A\n",
      "Validating: 0it [00:00, ?it/s]\u001b[A\n",
      "Validating:   0%|                                                                                            | 0/1 [00:00<?, ?it/s]\u001b[A\n",
      "Epoch 20: 100%|██████████████████████████████████████████████████████████████| 9/9 [00:00<00:00, 13.32it/s, loss=0.931, v_num=3c3l]\u001b[A\n",
      "Epoch 21:  89%|███████████████████████████████████████████████████████       | 8/9 [00:00<00:00, 17.50it/s, loss=0.929, v_num=3c3l]\u001b[A\n",
      "Validating: 0it [00:00, ?it/s]\u001b[A\n",
      "Validating:   0%|                                                                                            | 0/1 [00:00<?, ?it/s]\u001b[A\n",
      "Epoch 21: 100%|██████████████████████████████████████████████████████████████| 9/9 [00:00<00:00, 13.81it/s, loss=0.929, v_num=3c3l]\u001b[A\n",
      "Epoch 22:  89%|███████████████████████████████████████████████████████       | 8/9 [00:00<00:00, 18.20it/s, loss=0.919, v_num=3c3l]\u001b[A\n",
      "Validating: 0it [00:00, ?it/s]\u001b[A\n",
      "Validating:   0%|                                                                                            | 0/1 [00:00<?, ?it/s]\u001b[A\n",
      "Epoch 22: 100%|██████████████████████████████████████████████████████████████| 9/9 [00:00<00:00, 13.75it/s, loss=0.919, v_num=3c3l]\u001b[A\n",
      "Epoch 23:  89%|███████████████████████████████████████████████████████       | 8/9 [00:00<00:00, 16.62it/s, loss=0.913, v_num=3c3l]\u001b[A\n",
      "Validating: 0it [00:00, ?it/s]\u001b[A\n",
      "Validating:   0%|                                                                                            | 0/1 [00:00<?, ?it/s]\u001b[A\n",
      "Epoch 23: 100%|██████████████████████████████████████████████████████████████| 9/9 [00:00<00:00, 13.09it/s, loss=0.913, v_num=3c3l]\u001b[A\n",
      "Epoch 24:  89%|███████████████████████████████████████████████████████       | 8/9 [00:00<00:00, 17.96it/s, loss=0.914, v_num=3c3l]\u001b[A\n",
      "Validating: 0it [00:00, ?it/s]\u001b[A\n",
      "Validating:   0%|                                                                                            | 0/1 [00:00<?, ?it/s]\u001b[A\n",
      "Epoch 24: 100%|██████████████████████████████████████████████████████████████| 9/9 [00:00<00:00, 13.23it/s, loss=0.914, v_num=3c3l]\u001b[A\n",
      "Epoch 25:  89%|███████████████████████████████████████████████████████       | 8/9 [00:00<00:00, 16.77it/s, loss=0.915, v_num=3c3l]\u001b[A\n",
      "Validating: 0it [00:00, ?it/s]\u001b[A\n",
      "Validating:   0%|                                                                                            | 0/1 [00:00<?, ?it/s]\u001b[A\n",
      "Epoch 25: 100%|██████████████████████████████████████████████████████████████| 9/9 [00:00<00:00, 12.86it/s, loss=0.915, v_num=3c3l]\u001b[A\n",
      "Epoch 26:  89%|███████████████████████████████████████████████████████       | 8/9 [00:00<00:00, 17.61it/s, loss=0.911, v_num=3c3l]\u001b[A\n",
      "Validating: 0it [00:00, ?it/s]\u001b[A\n",
      "Validating:   0%|                                                                                            | 0/1 [00:00<?, ?it/s]\u001b[A\n",
      "Epoch 26: 100%|██████████████████████████████████████████████████████████████| 9/9 [00:00<00:00, 13.66it/s, loss=0.911, v_num=3c3l]\u001b[A\n",
      "Epoch 27:  89%|███████████████████████████████████████████████████████       | 8/9 [00:00<00:00, 15.22it/s, loss=0.911, v_num=3c3l]\u001b[A\n",
      "Validating: 0it [00:00, ?it/s]\u001b[A\n",
      "Validating:   0%|                                                                                            | 0/1 [00:00<?, ?it/s]\u001b[A\n",
      "Epoch 27: 100%|██████████████████████████████████████████████████████████████| 9/9 [00:00<00:00, 11.97it/s, loss=0.911, v_num=3c3l]\u001b[A\n",
      "Epoch 28:  89%|███████████████████████████████████████████████████████       | 8/9 [00:00<00:00, 17.18it/s, loss=0.912, v_num=3c3l]\u001b[A\n",
      "Validating: 0it [00:00, ?it/s]\u001b[A\n",
      "Validating:   0%|                                                                                            | 0/1 [00:00<?, ?it/s]\u001b[A\n",
      "Epoch 28: 100%|██████████████████████████████████████████████████████████████| 9/9 [00:00<00:00, 13.15it/s, loss=0.912, v_num=3c3l]\u001b[A\n",
      "Epoch 29:  89%|███████████████████████████████████████████████████████       | 8/9 [00:00<00:00, 17.55it/s, loss=0.915, v_num=3c3l]\u001b[A\n",
      "Validating: 0it [00:00, ?it/s]\u001b[A\n",
      "Validating:   0%|                                                                                            | 0/1 [00:00<?, ?it/s]\u001b[A\n",
      "Epoch 29: 100%|██████████████████████████████████████████████████████████████| 9/9 [00:00<00:00, 13.63it/s, loss=0.915, v_num=3c3l]\u001b[A\n",
      "Epoch 30:  89%|███████████████████████████████████████████████████████       | 8/9 [00:00<00:00, 14.82it/s, loss=0.918, v_num=3c3l]\u001b[A\n",
      "Validating: 0it [00:00, ?it/s]\u001b[A\n",
      "Validating:   0%|                                                                                            | 0/1 [00:00<?, ?it/s]\u001b[A\n",
      "Epoch 30: 100%|██████████████████████████████████████████████████████████████| 9/9 [00:00<00:00, 11.57it/s, loss=0.918, v_num=3c3l]\u001b[A\n",
      "Epoch 31:  89%|███████████████████████████████████████████████████████       | 8/9 [00:00<00:00, 16.56it/s, loss=0.919, v_num=3c3l]\u001b[A\n",
      "Validating: 0it [00:00, ?it/s]\u001b[A\n",
      "Validating:   0%|                                                                                            | 0/1 [00:00<?, ?it/s]\u001b[A\n",
      "Epoch 31: 100%|██████████████████████████████████████████████████████████████| 9/9 [00:00<00:00, 12.81it/s, loss=0.919, v_num=3c3l]\u001b[A\n",
      "Epoch 32:  89%|███████████████████████████████████████████████████████       | 8/9 [00:00<00:00, 16.60it/s, loss=0.919, v_num=3c3l]\u001b[A\n",
      "Validating: 0it [00:00, ?it/s]\u001b[A\n",
      "Validating:   0%|                                                                                            | 0/1 [00:00<?, ?it/s]\u001b[A\n",
      "Epoch 32: 100%|██████████████████████████████████████████████████████████████| 9/9 [00:00<00:00, 12.66it/s, loss=0.919, v_num=3c3l]\u001b[A\n",
      "Epoch 33:  89%|███████████████████████████████████████████████████████       | 8/9 [00:00<00:00, 17.83it/s, loss=0.921, v_num=3c3l]\u001b[A\n",
      "Validating: 0it [00:00, ?it/s]\u001b[A\n",
      "Validating:   0%|                                                                                            | 0/1 [00:00<?, ?it/s]\u001b[A\n",
      "Epoch 33: 100%|██████████████████████████████████████████████████████████████| 9/9 [00:00<00:00, 13.56it/s, loss=0.921, v_num=3c3l]\u001b[A\n",
      "Epoch 34:  89%|███████████████████████████████████████████████████████       | 8/9 [00:00<00:00, 14.76it/s, loss=0.919, v_num=3c3l]\u001b[A\n",
      "Validating: 0it [00:00, ?it/s]\u001b[A\n",
      "Validating:   0%|                                                                                            | 0/1 [00:00<?, ?it/s]\u001b[A\n",
      "Epoch 34: 100%|██████████████████████████████████████████████████████████████| 9/9 [00:00<00:00, 11.67it/s, loss=0.919, v_num=3c3l]\u001b[A\n",
      "Epoch 35:  89%|███████████████████████████████████████████████████████       | 8/9 [00:00<00:00, 14.09it/s, loss=0.919, v_num=3c3l]\u001b[A\n",
      "Validating: 0it [00:00, ?it/s]\u001b[A\n",
      "Validating:   0%|                                                                                            | 0/1 [00:00<?, ?it/s]\u001b[A\n",
      "Epoch 35: 100%|██████████████████████████████████████████████████████████████| 9/9 [00:00<00:00, 11.34it/s, loss=0.919, v_num=3c3l]\u001b[A\n",
      "Epoch 36:  89%|████████████████████████████████████████████████████████       | 8/9 [00:00<00:00, 16.83it/s, loss=0.92, v_num=3c3l]\u001b[A\n",
      "Validating: 0it [00:00, ?it/s]\u001b[A\n",
      "Validating:   0%|                                                                                            | 0/1 [00:00<?, ?it/s]\u001b[A\n",
      "Epoch 36: 100%|███████████████████████████████████████████████████████████████| 9/9 [00:00<00:00, 11.80it/s, loss=0.92, v_num=3c3l]\u001b[A\n",
      "Epoch 37:  89%|███████████████████████████████████████████████████████       | 8/9 [00:00<00:00, 15.94it/s, loss=0.924, v_num=3c3l]\u001b[A\n",
      "Validating: 0it [00:00, ?it/s]\u001b[A\n",
      "Validating:   0%|                                                                                            | 0/1 [00:00<?, ?it/s]\u001b[A\n",
      "Epoch 37: 100%|██████████████████████████████████████████████████████████████| 9/9 [00:00<00:00, 11.82it/s, loss=0.924, v_num=3c3l]\u001b[A\n",
      "Epoch 38:  89%|███████████████████████████████████████████████████████       | 8/9 [00:00<00:00, 15.64it/s, loss=0.925, v_num=3c3l]\u001b[A\n",
      "Validating: 0it [00:00, ?it/s]\u001b[A\n",
      "Validating:   0%|                                                                                            | 0/1 [00:00<?, ?it/s]\u001b[A\n",
      "Epoch 38: 100%|██████████████████████████████████████████████████████████████| 9/9 [00:00<00:00, 12.15it/s, loss=0.925, v_num=3c3l]\u001b[A\n",
      "Epoch 39:  89%|███████████████████████████████████████████████████████       | 8/9 [00:00<00:00, 14.50it/s, loss=0.924, v_num=3c3l]\u001b[A\n",
      "Validating: 0it [00:00, ?it/s]\u001b[A\n",
      "Validating:   0%|                                                                                            | 0/1 [00:00<?, ?it/s]\u001b[A\n",
      "Epoch 39: 100%|██████████████████████████████████████████████████████████████| 9/9 [00:00<00:00, 11.38it/s, loss=0.924, v_num=3c3l]\u001b[A\n",
      "Epoch 40:  89%|███████████████████████████████████████████████████████       | 8/9 [00:00<00:00, 18.24it/s, loss=0.927, v_num=3c3l]\u001b[A\n",
      "Validating: 0it [00:00, ?it/s]\u001b[A\n",
      "Validating:   0%|                                                                                            | 0/1 [00:00<?, ?it/s]\u001b[A\n",
      "Epoch 40: 100%|██████████████████████████████████████████████████████████████| 9/9 [00:00<00:00, 13.81it/s, loss=0.927, v_num=3c3l]\u001b[A\n",
      "Epoch 41:  89%|███████████████████████████████████████████████████████       | 8/9 [00:00<00:00, 18.09it/s, loss=0.928, v_num=3c3l]\u001b[A\n",
      "Validating: 0it [00:00, ?it/s]\u001b[A\n",
      "Validating:   0%|                                                                                            | 0/1 [00:00<?, ?it/s]\u001b[A\n",
      "Epoch 41: 100%|██████████████████████████████████████████████████████████████| 9/9 [00:00<00:00, 13.39it/s, loss=0.928, v_num=3c3l]\u001b[A\n",
      "Epoch 42:  89%|███████████████████████████████████████████████████████       | 8/9 [00:00<00:00, 17.19it/s, loss=0.927, v_num=3c3l]\u001b[A\n",
      "Validating: 0it [00:00, ?it/s]\u001b[A\n",
      "Validating:   0%|                                                                                            | 0/1 [00:00<?, ?it/s]\u001b[A\n",
      "Epoch 42: 100%|██████████████████████████████████████████████████████████████| 9/9 [00:00<00:00, 13.82it/s, loss=0.927, v_num=3c3l]\u001b[A\n",
      "Epoch 43:  89%|███████████████████████████████████████████████████████       | 8/9 [00:00<00:00, 17.86it/s, loss=0.925, v_num=3c3l]\u001b[A\n",
      "Validating: 0it [00:00, ?it/s]\u001b[A\n",
      "Validating:   0%|                                                                                            | 0/1 [00:00<?, ?it/s]\u001b[A\n",
      "Epoch 43: 100%|██████████████████████████████████████████████████████████████| 9/9 [00:00<00:00, 13.56it/s, loss=0.925, v_num=3c3l]\u001b[A\n",
      "Epoch 44:  89%|███████████████████████████████████████████████████████       | 8/9 [00:00<00:00, 17.04it/s, loss=0.925, v_num=3c3l]\u001b[A\n",
      "Validating: 0it [00:00, ?it/s]\u001b[A\n",
      "Validating:   0%|                                                                                            | 0/1 [00:00<?, ?it/s]\u001b[A\n",
      "Epoch 44: 100%|██████████████████████████████████████████████████████████████| 9/9 [00:00<00:00, 12.71it/s, loss=0.925, v_num=3c3l]\u001b[A\n",
      "Epoch 45:  89%|███████████████████████████████████████████████████████       | 8/9 [00:00<00:00, 17.06it/s, loss=0.923, v_num=3c3l]\u001b[A\n",
      "Validating: 0it [00:00, ?it/s]\u001b[A\n",
      "Validating:   0%|                                                                                            | 0/1 [00:00<?, ?it/s]\u001b[A\n",
      "Epoch 45: 100%|██████████████████████████████████████████████████████████████| 9/9 [00:00<00:00, 12.88it/s, loss=0.923, v_num=3c3l]\u001b[A\n",
      "Epoch 46:  89%|███████████████████████████████████████████████████████       | 8/9 [00:00<00:00, 15.28it/s, loss=0.924, v_num=3c3l]\u001b[A\n",
      "Validating: 0it [00:00, ?it/s]\u001b[A\n",
      "Validating:   0%|                                                                                            | 0/1 [00:00<?, ?it/s]\u001b[A\n",
      "Epoch 46: 100%|██████████████████████████████████████████████████████████████| 9/9 [00:00<00:00, 11.99it/s, loss=0.924, v_num=3c3l]\u001b[A\n",
      "Epoch 47:  89%|███████████████████████████████████████████████████████       | 8/9 [00:00<00:00, 17.59it/s, loss=0.927, v_num=3c3l]\u001b[A\n",
      "Validating: 0it [00:00, ?it/s]\u001b[A\n",
      "Validating:   0%|                                                                                            | 0/1 [00:00<?, ?it/s]\u001b[A\n",
      "Epoch 47: 100%|██████████████████████████████████████████████████████████████| 9/9 [00:00<00:00, 13.15it/s, loss=0.927, v_num=3c3l]\u001b[A\n",
      "Epoch 48:  89%|███████████████████████████████████████████████████████       | 8/9 [00:00<00:00, 17.47it/s, loss=0.929, v_num=3c3l]\u001b[A\n",
      "Validating: 0it [00:00, ?it/s]\u001b[A\n",
      "Validating:   0%|                                                                                            | 0/1 [00:00<?, ?it/s]\u001b[A\n",
      "Epoch 48: 100%|██████████████████████████████████████████████████████████████| 9/9 [00:00<00:00, 13.54it/s, loss=0.929, v_num=3c3l]\u001b[A\n",
      "Epoch 49:  89%|███████████████████████████████████████████████████████       | 8/9 [00:00<00:00, 16.71it/s, loss=0.928, v_num=3c3l]\u001b[A\n",
      "Validating: 0it [00:00, ?it/s]\u001b[A\n",
      "Validating:   0%|                                                                                            | 0/1 [00:00<?, ?it/s]\u001b[A\n",
      "Epoch 49: 100%|██████████████████████████████████████████████████████████████| 9/9 [00:00<00:00, 13.04it/s, loss=0.928, v_num=3c3l]\u001b[A\n",
      "Epoch 49: 100%|██████████████████████████████████████████████████████████████| 9/9 [00:00<00:00, 12.49it/s, loss=0.928, v_num=3c3l]\u001b[A\n"
     ]
    }
   ],
   "source": [
    "logger = WandbLogger(project=\"CodaEmbedding1GeV\", group=\"InitialTest\")\n",
    "trainer = Trainer(max_epochs=hparams[\"max_epochs\"], logger=logger)\n",
    "trainer.fit(model)"
   ]
  },
  {
   "cell_type": "markdown",
   "metadata": {},
   "source": [
    "### Test embedding"
   ]
  },
  {
   "cell_type": "markdown",
   "metadata": {},
   "source": [
    "A Pytorch Lightning Trainer has two main methods: `fit` and `test`. They represent the two main steps of any ML engingeering or research: Train a model, then make sure it can infer accurately on test (i.e. **hidden**) data."
   ]
  },
  {
   "cell_type": "markdown",
   "metadata": {},
   "source": [
    "Note that `ckpt_path` just tells the trainer to use the latest \"checkpoint\" of the model, rather than *best* checkpoint. A checkpoint is a saved version of the model, a snapshot at a particular stage of the training process. Pytorch Lightning automatically saves a checkpoint of your model in case something crashes and we need to resume."
   ]
  },
  {
   "cell_type": "code",
   "execution_count": 20,
   "metadata": {},
   "outputs": [
    {
     "name": "stderr",
     "output_type": "stream",
     "text": [
      "Restoring states from the checkpoint path at /home/adeel/current/5_exatrkx/stttrkx-hsf/notebooks/CodaEmbedding1GeV/38fu3c3l/checkpoints/epoch=49-step=399.ckpt\n",
      "Loaded model weights from checkpoint at /home/adeel/current/5_exatrkx/stttrkx-hsf/notebooks/CodaEmbedding1GeV/38fu3c3l/checkpoints/epoch=49-step=399.ckpt\n"
     ]
    },
    {
     "name": "stdout",
     "output_type": "stream",
     "text": [
      "Testing: 100%|███████████████████████████████████████████████████████████████████████████████████████| 1/1 [00:00<00:00,  4.52it/s]--------------------------------------------------------------------------------\n",
      "DATALOADER:0 TEST RESULTS\n",
      "{}\n",
      "--------------------------------------------------------------------------------\n",
      "Testing: 100%|███████████████████████████████████████████████████████████████████████████████████████| 1/1 [00:00<00:00,  4.48it/s]\n"
     ]
    }
   ],
   "source": [
    "test_results = trainer.test(ckpt_path='best')"
   ]
  },
  {
   "cell_type": "code",
   "execution_count": 21,
   "metadata": {},
   "outputs": [
    {
     "data": {
      "text/plain": [
       "[{}]"
      ]
     },
     "execution_count": 21,
     "metadata": {},
     "output_type": "execute_result"
    }
   ],
   "source": [
    "test_results"
   ]
  },
  {
   "cell_type": "markdown",
   "metadata": {},
   "source": [
    "## Performance"
   ]
  },
  {
   "cell_type": "markdown",
   "metadata": {},
   "source": [
    "Let's see how well the model learned to embed the hits into a space that separates them into discrete clusters. As in the data visualisation above, we are going manual here. So one thing we need to do is tell the model that we are **evaluating**, not **training**, with `model.eval()`. We also make sure to wrap everything with `with torch.no_grad()` to ignore any gradients. This speeds things up and gives the GPU's memory a rest, since we're not interesting in any kind of training from here on in."
   ]
  },
  {
   "cell_type": "code",
   "execution_count": 22,
   "metadata": {},
   "outputs": [],
   "source": [
    "model.eval();"
   ]
  },
  {
   "cell_type": "markdown",
   "metadata": {},
   "source": [
    "### Test metrics"
   ]
  },
  {
   "cell_type": "code",
   "execution_count": 23,
   "metadata": {
    "scrolled": true
   },
   "outputs": [
    {
     "name": "stderr",
     "output_type": "stream",
     "text": [
      "/home/adeel/anaconda/envs/exatrkx-cpu/lib/python3.8/site-packages/pytorch_lightning/trainer/trainer.py:1398: UserWarning: `.test(ckpt_path=None)` was called without a model. The best model of the previous `fit` call will be used. You can pass `test(ckpt_path='best')` to use and best model checkpoint and avoid this warning or `ckpt_path=trainer.checkpoint_callback.last_model_path` to use the last model.\n",
      "  rank_zero_warn(\n",
      "Restoring states from the checkpoint path at /home/adeel/current/5_exatrkx/stttrkx-hsf/notebooks/CodaEmbedding1GeV/38fu3c3l/checkpoints/epoch=49-step=399.ckpt\n",
      "Loaded model weights from checkpoint at /home/adeel/current/5_exatrkx/stttrkx-hsf/notebooks/CodaEmbedding1GeV/38fu3c3l/checkpoints/epoch=49-step=399.ckpt\n"
     ]
    },
    {
     "name": "stdout",
     "output_type": "stream",
     "text": [
      "Testing: 100%|███████████████████████████████████████████████████████████████████████████████████████| 1/1 [00:00<00:00,  4.99it/s]--------------------------------------------------------------------------------\n",
      "DATALOADER:0 TEST RESULTS\n",
      "{}\n",
      "--------------------------------------------------------------------------------\n",
      "Testing: 100%|███████████████████████████████████████████████████████████████████████████████████████| 1/1 [00:00<00:00,  4.95it/s]\n"
     ]
    },
    {
     "ename": "KeyError",
     "evalue": "'eff'",
     "output_type": "error",
     "traceback": [
      "\u001b[0;31m---------------------------------------------------------------------------\u001b[0m",
      "\u001b[0;31mKeyError\u001b[0m                                  Traceback (most recent call last)",
      "Input \u001b[0;32mIn [23]\u001b[0m, in \u001b[0;36m<cell line: 4>\u001b[0;34m()\u001b[0m\n\u001b[1;32m      7\u001b[0m model\u001b[38;5;241m.\u001b[39mhparams\u001b[38;5;241m.\u001b[39mr_test \u001b[38;5;241m=\u001b[39m r\n\u001b[1;32m      8\u001b[0m test_results \u001b[38;5;241m=\u001b[39m trainer\u001b[38;5;241m.\u001b[39mtest(ckpt_path\u001b[38;5;241m=\u001b[39m\u001b[38;5;28;01mNone\u001b[39;00m)[\u001b[38;5;241m0\u001b[39m]\n\u001b[0;32m---> 10\u001b[0m mean_efficiency, mean_purity \u001b[38;5;241m=\u001b[39m \u001b[43mtest_results\u001b[49m\u001b[43m[\u001b[49m\u001b[38;5;124;43m\"\u001b[39;49m\u001b[38;5;124;43meff\u001b[39;49m\u001b[38;5;124;43m\"\u001b[39;49m\u001b[43m]\u001b[49m, test_results[\u001b[38;5;124m\"\u001b[39m\u001b[38;5;124mpur\u001b[39m\u001b[38;5;124m\"\u001b[39m]\n\u001b[1;32m     12\u001b[0m all_efficiencies\u001b[38;5;241m.\u001b[39mappend(mean_efficiency)\n\u001b[1;32m     13\u001b[0m all_purities\u001b[38;5;241m.\u001b[39mappend(mean_purity)\n",
      "\u001b[0;31mKeyError\u001b[0m: 'eff'"
     ]
    }
   ],
   "source": [
    "all_efficiencies, all_purities = [], []\n",
    "all_radius = np.arange(0.1, 1.2, 0.1)\n",
    "\n",
    "with torch.no_grad():\n",
    "    for r in all_radius:\n",
    "\n",
    "        model.hparams.r_test = r\n",
    "        test_results = trainer.test(ckpt_path=None)[0]\n",
    "\n",
    "        mean_efficiency, mean_purity = test_results[\"eff\"], test_results[\"pur\"]\n",
    "\n",
    "        all_efficiencies.append(mean_efficiency)\n",
    "        all_purities.append(mean_purity)"
   ]
  },
  {
   "cell_type": "markdown",
   "metadata": {},
   "source": [
    "We should always visualise two important metrics: the efficiency (the number of true positives divided by the total number of possible true edges) and the purity (the number of true positives divided by the number of predicted edges). Is it clear to you why the graphs below behave as they do, as we widen the sphere around each hit to generate neighboring edges?"
   ]
  },
  {
   "cell_type": "code",
   "execution_count": null,
   "metadata": {},
   "outputs": [],
   "source": [
    "plt.figure(figsize=(12, 8))\n",
    "plt.plot(all_radius, all_efficiencies)\n",
    "plt.title(\"Embedding efficiency\", fontsize=24), plt.xlabel(\n",
    "    \"Radius of neighborhood\", fontsize=18\n",
    "), plt.ylabel(\"Efficiency\", fontsize=18);"
   ]
  },
  {
   "cell_type": "code",
   "execution_count": null,
   "metadata": {},
   "outputs": [],
   "source": [
    "plt.figure(figsize=(12, 8))\n",
    "plt.plot(all_radius, all_purities)\n",
    "plt.title(\"Embedding purity\", fontsize=24), plt.xlabel(\n",
    "    \"Radius of neighborhood\", fontsize=18\n",
    "), plt.ylabel(\"Purity\", fontsize=18);"
   ]
  },
  {
   "cell_type": "markdown",
   "metadata": {},
   "source": [
    "### Visualise embedding / latent space"
   ]
  },
  {
   "cell_type": "markdown",
   "metadata": {},
   "source": [
    "Another useful thing to visualise is the actual space being embedded into. Since it's 8 dimensional, we can reduce it to 2 dimensions with \"Principal Component Analysis\". "
   ]
  },
  {
   "cell_type": "code",
   "execution_count": null,
   "metadata": {},
   "outputs": [],
   "source": [
    "from sklearn.decomposition import PCA"
   ]
  },
  {
   "cell_type": "code",
   "execution_count": null,
   "metadata": {},
   "outputs": [],
   "source": [
    "example_data = model.trainset[0]\n",
    "particle_ids = example_data.pid\n",
    "cyl_coords = example_data.x\n",
    "cell_features = example_data.cell_data\n",
    "all_features = torch.cat([cyl_coords, cell_features], axis=-1)"
   ]
  },
  {
   "cell_type": "code",
   "execution_count": null,
   "metadata": {},
   "outputs": [],
   "source": [
    "latent_features = model(all_features)"
   ]
  },
  {
   "cell_type": "code",
   "execution_count": null,
   "metadata": {},
   "outputs": [],
   "source": [
    "pca = PCA(n_components=2)"
   ]
  },
  {
   "cell_type": "code",
   "execution_count": null,
   "metadata": {},
   "outputs": [],
   "source": [
    "reduced_dimensions = pca.fit_transform(latent_features.detach().cpu())"
   ]
  },
  {
   "cell_type": "code",
   "execution_count": null,
   "metadata": {},
   "outputs": [],
   "source": [
    "plt.figure(figsize=(12, 8))\n",
    "plt.scatter(reduced_dimensions[:, 0], reduced_dimensions[:, 1], s=1)"
   ]
  },
  {
   "cell_type": "markdown",
   "metadata": {},
   "source": [
    "The above plot is what **all** the data looks like in the latent space. Let's pick a (long) particle track and see if the track is projected to be close together:"
   ]
  },
  {
   "cell_type": "code",
   "execution_count": null,
   "metadata": {},
   "outputs": [],
   "source": [
    "particles, counts = np.unique(example_data.pid, return_counts=True)"
   ]
  },
  {
   "cell_type": "code",
   "execution_count": null,
   "metadata": {},
   "outputs": [],
   "source": [
    "example_particle = particles[counts > 10][2]"
   ]
  },
  {
   "cell_type": "code",
   "execution_count": null,
   "metadata": {},
   "outputs": [],
   "source": [
    "plt.figure(figsize=(12, 8))\n",
    "plt.scatter(reduced_dimensions[:, 0], reduced_dimensions[:, 1], s=1)\n",
    "plt.scatter(\n",
    "    reduced_dimensions[particle_ids == example_particle, 0],\n",
    "    reduced_dimensions[particle_ids == example_particle, 1],\n",
    ")"
   ]
  },
  {
   "cell_type": "markdown",
   "metadata": {},
   "source": [
    "There are at least 10 hits in the plot above. Hopefully some of them cluster together into blobs, and that the blobs are close to other blobs of the same color. We get ~99% efficiency with this model, so even if some blobs appear far away in the PCA-reduced 2D space, they are most likely much closer in the 8-dimensional space. You can check this yourself!"
   ]
  },
  {
   "cell_type": "markdown",
   "metadata": {},
   "source": [
    "## Further Investigation"
   ]
  },
  {
   "cell_type": "markdown",
   "metadata": {},
   "source": [
    "1. Is there any performance gain from increasing the number of hidden channels?\n",
    "2. What about *decreasing* the number of channels?\n",
    "3. What about increasing/decreasing the number of dimensions in the latent space?\n",
    "4. Is it possible to overtrain? That is, try increasing the number of epochs and seeing if the validation loss always decreases, plateaus, or starts to increase\n",
    "5. Learning rate can be **everything** in some models. What effect does it have to increase/decrease it here?\n",
    "6. Similarly, \"warm-up\" is like a slow start, where the learning rate increases for X batches (default of 100 here). Try changing it and seeing if you can improve the final performance.\n",
    "7. To train the model here we use a combination of random pairs (that is, just picking pairs of hits at random, seeing if they belong to the same track, and "
   ]
  }
 ],
 "metadata": {
  "kernelspec": {
   "display_name": "Python 3 (ipykernel)",
   "language": "python",
   "name": "python3"
  },
  "language_info": {
   "codemirror_mode": {
    "name": "ipython",
    "version": 3
   },
   "file_extension": ".py",
   "mimetype": "text/x-python",
   "name": "python",
   "nbconvert_exporter": "python",
   "pygments_lexer": "ipython3",
   "version": "3.8.12"
  }
 },
 "nbformat": 4,
 "nbformat_minor": 4
}
